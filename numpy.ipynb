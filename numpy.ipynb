{
 "cells": [
  {
   "cell_type": "code",
   "execution_count": 1,
   "id": "29e65a59",
   "metadata": {},
   "outputs": [],
   "source": [
    "import numpy as np"
   ]
  },
  {
   "cell_type": "code",
   "execution_count": null,
   "id": "4d57c437",
   "metadata": {},
   "outputs": [],
   "source": [
    "np.array()\n",
    "np.zeros()\n",
    "np.ones()\n",
    "np.arange()\n",
    "np.linspace()\n",
    "dtype\n",
    "np.append()\n",
    "np.delete()\n",
    "np.sort()\n",
    "ndarray.ndim()\n",
    "ndarray.size()\n",
    "ndarray.shape()\n",
    "np.reshape()"
   ]
  },
  {
   "cell_type": "code",
   "execution_count": 9,
   "id": "c9c44c42",
   "metadata": {},
   "outputs": [
    {
     "data": {
      "text/plain": [
       "array([1, 2, 3])"
      ]
     },
     "execution_count": 9,
     "metadata": {},
     "output_type": "execute_result"
    }
   ],
   "source": [
    "a = np.array([1,2,3])\n",
    "a"
   ]
  },
  {
   "cell_type": "code",
   "execution_count": 8,
   "id": "367d0ec1",
   "metadata": {},
   "outputs": [
    {
     "data": {
      "text/plain": [
       "array([[ 1,  2,  3,  4],\n",
       "       [ 5,  6,  7,  8],\n",
       "       [ 9, 10, 11, 12]])"
      ]
     },
     "execution_count": 8,
     "metadata": {},
     "output_type": "execute_result"
    }
   ],
   "source": [
    "b = np.array([[1 , 2, 3, 4], [5, 6, 7, 8], [9, 10, 11, 12]])\n",
    "b"
   ]
  },
  {
   "cell_type": "code",
   "execution_count": 13,
   "id": "49f2f9d7",
   "metadata": {},
   "outputs": [
    {
     "data": {
      "text/plain": [
       "array([0., 0., 0.])"
      ]
     },
     "execution_count": 13,
     "metadata": {},
     "output_type": "execute_result"
    }
   ],
   "source": [
    "np.zeros(3)"
   ]
  },
  {
   "cell_type": "code",
   "execution_count": 14,
   "id": "4f545801",
   "metadata": {},
   "outputs": [
    {
     "data": {
      "text/plain": [
       "array([1., 1., 1.])"
      ]
     },
     "execution_count": 14,
     "metadata": {},
     "output_type": "execute_result"
    }
   ],
   "source": [
    "np.ones(3)"
   ]
  },
  {
   "cell_type": "code",
   "execution_count": 24,
   "id": "5a776992",
   "metadata": {},
   "outputs": [
    {
     "data": {
      "text/plain": [
       "array([0, 1, 2, 3])"
      ]
     },
     "execution_count": 24,
     "metadata": {},
     "output_type": "execute_result"
    }
   ],
   "source": [
    "np.arange(4)"
   ]
  },
  {
   "cell_type": "code",
   "execution_count": 26,
   "id": "c949c9e4",
   "metadata": {},
   "outputs": [
    {
     "data": {
      "text/plain": [
       "array([ 2,  4,  6,  8, 10, 12, 14, 16, 18])"
      ]
     },
     "execution_count": 26,
     "metadata": {},
     "output_type": "execute_result"
    }
   ],
   "source": [
    "np.arange(2,19,2)"
   ]
  },
  {
   "cell_type": "code",
   "execution_count": null,
   "id": "276a12a8",
   "metadata": {},
   "outputs": [],
   "source": []
  },
  {
   "cell_type": "code",
   "execution_count": 31,
   "id": "93083c7f",
   "metadata": {},
   "outputs": [
    {
     "data": {
      "text/plain": [
       "array([ 0,  2,  5,  7, 10])"
      ]
     },
     "execution_count": 31,
     "metadata": {},
     "output_type": "execute_result"
    }
   ],
   "source": [
    "np.linspace(0,10,5,dtype=int)"
   ]
  },
  {
   "cell_type": "code",
   "execution_count": 32,
   "id": "ff3c660e",
   "metadata": {},
   "outputs": [
    {
     "name": "stdout",
     "output_type": "stream",
     "text": [
      "1\n",
      "2\n",
      "[1 2]\n",
      "[2 3]\n",
      "[2 3]\n"
     ]
    }
   ],
   "source": [
    "data = np.array([1,2,3])\n",
    "print(data[0])\n",
    "print(data[1])\n",
    "print(data[0:2])\n",
    "print(data[1:])\n",
    "print(data[-2:])"
   ]
  },
  {
   "cell_type": "code",
   "execution_count": 33,
   "id": "86a28f52",
   "metadata": {},
   "outputs": [],
   "source": [
    "a = np.array([[1 , 2, 3, 4], [5, 6, 7, 8], [9, 10, 11, 12]])"
   ]
  },
  {
   "cell_type": "code",
   "execution_count": 36,
   "id": "2036d6fa",
   "metadata": {},
   "outputs": [
    {
     "name": "stdout",
     "output_type": "stream",
     "text": [
      "[ 4  5  6  7  8  9 10 11 12]\n"
     ]
    }
   ],
   "source": [
    "print(a[a>3])"
   ]
  },
  {
   "cell_type": "code",
   "execution_count": 37,
   "id": "ff57652a",
   "metadata": {},
   "outputs": [
    {
     "name": "stdout",
     "output_type": "stream",
     "text": [
      "[ 2  4  6  8 10 12]\n"
     ]
    }
   ],
   "source": [
    "divisible_by_2 = a[a%2==0]\n",
    "print(divisible_by_2)"
   ]
  },
  {
   "cell_type": "code",
   "execution_count": 38,
   "id": "333fd7ad",
   "metadata": {},
   "outputs": [
    {
     "name": "stdout",
     "output_type": "stream",
     "text": [
      "[ 3  4  5  6  7  8  9 10]\n"
     ]
    }
   ],
   "source": [
    "c = a[(a > 2) & (a < 11)]\n",
    "print(c)"
   ]
  },
  {
   "cell_type": "code",
   "execution_count": 39,
   "id": "2dbf582f",
   "metadata": {},
   "outputs": [],
   "source": [
    "a = np.array([[1 , 2, 3, 4], [5, 6, 7, 8], [9, 10, 11, 12]])"
   ]
  },
  {
   "cell_type": "code",
   "execution_count": 40,
   "id": "9ed481d4",
   "metadata": {},
   "outputs": [
    {
     "name": "stdout",
     "output_type": "stream",
     "text": [
      "(array([0, 0, 0, 0], dtype=int64), array([0, 1, 2, 3], dtype=int64))\n"
     ]
    }
   ],
   "source": [
    "slicing and indexing\n",
    "np.vstack()\n",
    "np.hstack()\n",
    "np.hsplit()\n",
    ".view()\n",
    ".copy()"
   ]
  },
  {
   "cell_type": "code",
   "execution_count": 44,
   "id": "56c11c69",
   "metadata": {},
   "outputs": [],
   "source": [
    "array = np.array([ 1,  2,  3,  4,  5,  6,  7,  8,  9, 10])"
   ]
  },
  {
   "cell_type": "code",
   "execution_count": 45,
   "id": "c3b695f5",
   "metadata": {},
   "outputs": [
    {
     "data": {
      "text/plain": [
       "array([4, 5, 6, 7, 8])"
      ]
     },
     "execution_count": 45,
     "metadata": {},
     "output_type": "execute_result"
    }
   ],
   "source": [
    "arr1 = array[3:8]\n",
    "arr1"
   ]
  },
  {
   "cell_type": "code",
   "execution_count": 47,
   "id": "f4437e0e",
   "metadata": {},
   "outputs": [],
   "source": [
    "a1 = np.array([[1, 1],\n",
    "     [2, 2]])"
   ]
  },
  {
   "cell_type": "code",
   "execution_count": 48,
   "id": "e06666c6",
   "metadata": {},
   "outputs": [],
   "source": [
    "a2 = np.array([[3, 3],\n",
    "     [4, 4]])"
   ]
  },
  {
   "cell_type": "code",
   "execution_count": 50,
   "id": "31fcb82b",
   "metadata": {},
   "outputs": [
    {
     "data": {
      "text/plain": [
       "array([[1, 1],\n",
       "       [2, 2],\n",
       "       [3, 3],\n",
       "       [4, 4]])"
      ]
     },
     "execution_count": 50,
     "metadata": {},
     "output_type": "execute_result"
    }
   ],
   "source": [
    "np.vstack((a1, a2))"
   ]
  },
  {
   "cell_type": "code",
   "execution_count": 51,
   "id": "23da06bd",
   "metadata": {},
   "outputs": [
    {
     "data": {
      "text/plain": [
       "array([[1, 1, 3, 3],\n",
       "       [2, 2, 4, 4]])"
      ]
     },
     "execution_count": 51,
     "metadata": {},
     "output_type": "execute_result"
    }
   ],
   "source": [
    "np.hstack((a1, a2))"
   ]
  },
  {
   "cell_type": "code",
   "execution_count": 52,
   "id": "b5b55df8",
   "metadata": {},
   "outputs": [],
   "source": [
    "a = np.array([[1 , 2, 3, 4], [5, 6, 7, 8], [9, 10, 11, 12]])"
   ]
  },
  {
   "cell_type": "code",
   "execution_count": 55,
   "id": "2b339f6d",
   "metadata": {},
   "outputs": [
    {
     "data": {
      "text/plain": [
       "array([[ 1,  2,  3,  4],\n",
       "       [ 5,  6,  7,  8],\n",
       "       [ 9, 10, 11, 12]])"
      ]
     },
     "execution_count": 55,
     "metadata": {},
     "output_type": "execute_result"
    }
   ],
   "source": [
    "b = a.view()\n",
    "b"
   ]
  },
  {
   "cell_type": "code",
   "execution_count": 56,
   "id": "23149bc3",
   "metadata": {},
   "outputs": [
    {
     "data": {
      "text/plain": [
       "array([[ 1,  2,  3,  4],\n",
       "       [ 5,  6,  7,  8],\n",
       "       [ 9, 10, 11, 12]])"
      ]
     },
     "execution_count": 56,
     "metadata": {},
     "output_type": "execute_result"
    }
   ],
   "source": [
    "c = a.copy()\n",
    "c"
   ]
  },
  {
   "cell_type": "code",
   "execution_count": null,
   "id": "402ed84e",
   "metadata": {},
   "outputs": [],
   "source": [
    "np.shape()\n",
    "np.size()"
   ]
  },
  {
   "cell_type": "code",
   "execution_count": 59,
   "id": "9e81d3d8",
   "metadata": {},
   "outputs": [],
   "source": [
    "np_arr = np.array([[1 , 2, 3, 4], [5, 6, 7, 8], [9, 10, 11, 12]])"
   ]
  },
  {
   "cell_type": "code",
   "execution_count": 60,
   "id": "318faf46",
   "metadata": {},
   "outputs": [
    {
     "data": {
      "text/plain": [
       "(3, 4)"
      ]
     },
     "execution_count": 60,
     "metadata": {},
     "output_type": "execute_result"
    }
   ],
   "source": [
    "np_arr.shape"
   ]
  },
  {
   "cell_type": "code",
   "execution_count": 61,
   "id": "84d891e1",
   "metadata": {},
   "outputs": [],
   "source": [
    "arr = np.array([1, 2, 3, 4, 5, 6, 7, 8])"
   ]
  },
  {
   "cell_type": "code",
   "execution_count": 62,
   "id": "e90b5019",
   "metadata": {},
   "outputs": [
    {
     "name": "stdout",
     "output_type": "stream",
     "text": [
      "Number of Rows :  3\n",
      "Number of Columns :  4\n"
     ]
    }
   ],
   "source": [
    "# get number of rows in array\n",
    "num_of_rows2 = np.size(np_arr, 0)\n",
    "# get number of columns in 2D numpy array\n",
    "num_of_columns2 = np.size(np_arr, 1)\n",
    "print('Number of Rows : ', num_of_rows2)\n",
    "print('Number of Columns : ', num_of_columns2)"
   ]
  },
  {
   "cell_type": "code",
   "execution_count": 63,
   "id": "c7fc0aa9",
   "metadata": {},
   "outputs": [
    {
     "name": "stdout",
     "output_type": "stream",
     "text": [
      "Total number of elements in  array :  12\n"
     ]
    }
   ],
   "source": [
    "print('Total number of elements in  array : ', np.size(np_arr))"
   ]
  },
  {
   "cell_type": "code",
   "execution_count": 68,
   "id": "388f47fb",
   "metadata": {},
   "outputs": [],
   "source": [
    "data = np.array([[1,2],[3,4]])"
   ]
  },
  {
   "cell_type": "code",
   "execution_count": 69,
   "id": "c0dee8c5",
   "metadata": {},
   "outputs": [
    {
     "data": {
      "text/plain": [
       "array([1, 3])"
      ]
     },
     "execution_count": 69,
     "metadata": {},
     "output_type": "execute_result"
    }
   ],
   "source": [
    "data[0,1]\n",
    "data[1:3]\n",
    "data[0:2,0]"
   ]
  },
  {
   "cell_type": "code",
   "execution_count": 70,
   "id": "cd7e44cd",
   "metadata": {},
   "outputs": [
    {
     "data": {
      "text/plain": [
       "10"
      ]
     },
     "execution_count": 70,
     "metadata": {},
     "output_type": "execute_result"
    }
   ],
   "source": [
    "data.max()\n",
    "data.min()\n",
    "data.sum()"
   ]
  },
  {
   "cell_type": "code",
   "execution_count": 71,
   "id": "456d2816",
   "metadata": {},
   "outputs": [
    {
     "data": {
      "text/plain": [
       "array([2, 4])"
      ]
     },
     "execution_count": 71,
     "metadata": {},
     "output_type": "execute_result"
    }
   ],
   "source": [
    "data.max(axis=0)\n",
    "data.max(axis=1)"
   ]
  },
  {
   "cell_type": "code",
   "execution_count": 72,
   "id": "5862e7a4",
   "metadata": {},
   "outputs": [],
   "source": [
    "array = np.array([[1 , 2, 3, 4], [5, 6, 7, 8], [9, 10, 11, 12]])"
   ]
  },
  {
   "cell_type": "code",
   "execution_count": 73,
   "id": "f53081e7",
   "metadata": {},
   "outputs": [
    {
     "data": {
      "text/plain": [
       "array([ 1,  2,  3,  4,  5,  6,  7,  8,  9, 10, 11, 12])"
      ]
     },
     "execution_count": 73,
     "metadata": {},
     "output_type": "execute_result"
    }
   ],
   "source": [
    "array.flatten()"
   ]
  },
  {
   "cell_type": "code",
   "execution_count": null,
   "id": "1c7b1617",
   "metadata": {},
   "outputs": [],
   "source": [
    "numpy.random.rand: Generates an array of specified shape containing random values uniformly distributed between 0 and 1.\n",
    "\n",
    "numpy.random.randn: Generates an array of specified shape containing random values normally distributed with mean 0 and variance 1.\n",
    "\n",
    "numpy.random.randint: Generates an array of specified shape containing random integers between specified low and high values.\n",
    "\n",
    "numpy.random.choice: Randomly selects elements from a given array.\n",
    "\n",
    "numpy.random.shuffle: Shuffles the elements of a given array in place.\n",
    "\n",
    "numpy.random.seed: Sets the seed for generating random numbers, which allows for reproducibility of results.\n",
    "\n",
    "numpy.random.permutation: Randomly permutes a sequence of numbers or an array.\n",
    "\n",
    "numpy.random.normal: Generates an array of specified shape containing random values normally distributed with a specified mean and standard deviation.\n",
    "\n",
    "numpy.random.uniform: Generates an array of specified shape containing random values uniformly distributed between specified low and high values.\n",
    "\n",
    "numpy.random.binomial: Generates an array of specified shape containing random values from a binomial distribution with a specified number of trials and probability of success."
   ]
  },
  {
   "cell_type": "code",
   "execution_count": 82,
   "id": "2070aded",
   "metadata": {},
   "outputs": [
    {
     "data": {
      "text/plain": [
       "array([0.59178271, 0.36864062, 0.42456516, 0.11531001, 0.87264146,\n",
       "       0.86669594, 0.72516739, 0.33433177, 0.75876411, 0.1991933 ,\n",
       "       0.23334793, 0.96005079, 0.51481426, 0.24399979, 0.53025886])"
      ]
     },
     "execution_count": 82,
     "metadata": {},
     "output_type": "execute_result"
    }
   ],
   "source": [
    "np.random.random(15)"
   ]
  },
  {
   "cell_type": "code",
   "execution_count": 83,
   "id": "b3879ba3",
   "metadata": {},
   "outputs": [
    {
     "data": {
      "text/plain": [
       "array([[0.75347452, 0.9818129 ],\n",
       "       [0.36884367, 0.20111237],\n",
       "       [0.63622694, 0.37051958]])"
      ]
     },
     "execution_count": 83,
     "metadata": {},
     "output_type": "execute_result"
    }
   ],
   "source": [
    "np.random.rand(3,2)"
   ]
  },
  {
   "cell_type": "code",
   "execution_count": 84,
   "id": "781e0b88",
   "metadata": {},
   "outputs": [
    {
     "data": {
      "text/plain": [
       "array([[-0.85999504, -0.83087536,  0.70784704, -0.19597023,  1.35411533],\n",
       "       [ 0.13094829, -0.77113419,  1.02102136,  0.21100352,  1.18152334],\n",
       "       [-0.53800866, -1.88753029, -0.87519695,  0.7087826 ,  0.74834922]])"
      ]
     },
     "execution_count": 84,
     "metadata": {},
     "output_type": "execute_result"
    }
   ],
   "source": [
    "np.random.randn(3,5)"
   ]
  },
  {
   "cell_type": "code",
   "execution_count": 87,
   "id": "4f5483c8",
   "metadata": {},
   "outputs": [],
   "source": [
    "a = np.random.randint(1,100,50)"
   ]
  },
  {
   "cell_type": "code",
   "execution_count": 86,
   "id": "d32bba0d",
   "metadata": {},
   "outputs": [],
   "source": [
    "np.random.seed(10)"
   ]
  },
  {
   "cell_type": "code",
   "execution_count": 91,
   "id": "538a6514",
   "metadata": {},
   "outputs": [
    {
     "data": {
      "text/plain": [
       "array([50, 90, 70, 95, 94, 90,  9, 70, 70, 95])"
      ]
     },
     "execution_count": 91,
     "metadata": {},
     "output_type": "execute_result"
    }
   ],
   "source": [
    "np.random.choice(a,10)"
   ]
  },
  {
   "cell_type": "code",
   "execution_count": 94,
   "id": "8a17fda6",
   "metadata": {},
   "outputs": [],
   "source": [
    "np.random.shuffle(a)"
   ]
  },
  {
   "cell_type": "code",
   "execution_count": 95,
   "id": "f8669474",
   "metadata": {},
   "outputs": [
    {
     "data": {
      "text/plain": [
       "array([41, 70, 28, 34, 37, 75, 94, 90, 19, 16, 79, 32, 95, 94, 14, 55, 26,\n",
       "       10, 37, 17, 14, 31, 74, 78, 12, 63, 29, 65, 89, 66, 55, 52, 30,  1,\n",
       "       31, 90, 89, 23, 29, 78, 12, 50, 13, 73, 87,  9, 10, 58, 93, 24])"
      ]
     },
     "execution_count": 95,
     "metadata": {},
     "output_type": "execute_result"
    }
   ],
   "source": [
    "a"
   ]
  },
  {
   "cell_type": "code",
   "execution_count": 103,
   "id": "18aa530c",
   "metadata": {},
   "outputs": [],
   "source": [
    "x = np.random.normal(5,1,100)"
   ]
  },
  {
   "cell_type": "code",
   "execution_count": null,
   "id": "d8cfe8a7",
   "metadata": {},
   "outputs": [],
   "source": []
  },
  {
   "cell_type": "code",
   "execution_count": null,
   "id": "ffba6c2f",
   "metadata": {},
   "outputs": [],
   "source": []
  },
  {
   "cell_type": "code",
   "execution_count": null,
   "id": "d96a48e6",
   "metadata": {},
   "outputs": [],
   "source": []
  }
 ],
 "metadata": {
  "kernelspec": {
   "display_name": "Python 3 (ipykernel)",
   "language": "python",
   "name": "python3"
  },
  "language_info": {
   "codemirror_mode": {
    "name": "ipython",
    "version": 3
   },
   "file_extension": ".py",
   "mimetype": "text/x-python",
   "name": "python",
   "nbconvert_exporter": "python",
   "pygments_lexer": "ipython3",
   "version": "3.9.12"
  }
 },
 "nbformat": 4,
 "nbformat_minor": 5
}
